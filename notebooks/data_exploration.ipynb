{
 "cells": [
  {
   "cell_type": "markdown",
   "metadata": {},
   "source": [
    "# Causality mining using DSPY and LLAMA"
   ]
  },
  {
   "cell_type": "code",
   "execution_count": null,
   "metadata": {
    "colab": {
     "base_uri": "https://localhost:8080/"
    },
    "id": "g37Zyd_yJlEP",
    "outputId": "7078f043-493b-4a7a-9672-e8782757ec74"
   },
   "outputs": [],
   "source": [
    "pip install dspy"
   ]
  },
  {
   "cell_type": "code",
   "execution_count": 6,
   "metadata": {},
   "outputs": [
    {
     "name": "stdout",
     "output_type": "stream",
     "text": [
      "Collecting openpyxl\n",
      "  Using cached openpyxl-3.1.5-py2.py3-none-any.whl.metadata (2.5 kB)\n",
      "Collecting et-xmlfile (from openpyxl)\n",
      "  Using cached et_xmlfile-2.0.0-py3-none-any.whl.metadata (2.7 kB)\n",
      "Using cached openpyxl-3.1.5-py2.py3-none-any.whl (250 kB)\n",
      "Using cached et_xmlfile-2.0.0-py3-none-any.whl (18 kB)\n",
      "Installing collected packages: et-xmlfile, openpyxl\n",
      "Successfully installed et-xmlfile-2.0.0 openpyxl-3.1.5\n",
      "Note: you may need to restart the kernel to use updated packages.\n"
     ]
    },
    {
     "name": "stderr",
     "output_type": "stream",
     "text": [
      "\n",
      "[notice] A new release of pip is available: 24.2 -> 24.3.1\n",
      "[notice] To update, run: C:\\Users\\amahai00\\AppData\\Local\\Programs\\Python\\Python312\\python.exe -m pip install --upgrade pip\n"
     ]
    }
   ],
   "source": [
    "pip install openpyxl"
   ]
  },
  {
   "cell_type": "code",
   "execution_count": 2,
   "metadata": {
    "id": "I0vVIqivJowW"
   },
   "outputs": [],
   "source": [
    "import dspy"
   ]
  },
  {
   "cell_type": "code",
   "execution_count": 3,
   "metadata": {
    "id": "8PZBBWWMKJ_i"
   },
   "outputs": [],
   "source": [
    "from typing import Literal"
   ]
  },
  {
   "cell_type": "code",
   "execution_count": 7,
   "metadata": {},
   "outputs": [],
   "source": [
    "import pandas as pd\n",
    "import openpyxl"
   ]
  },
  {
   "cell_type": "code",
   "execution_count": 12,
   "metadata": {},
   "outputs": [],
   "source": [
    "who_data = pd.read_csv(\"../data/raw/corpus.csv\")\n",
    "who_data_epi = who_data[who_data[\"InformationType\"] == \"Epidemiology\"]\n",
    "who_data_assessment = who_data[who_data[\"InformationType\"] == \"Assessment\"]\n",
    "who_data_epi_and_assessment = who_data[\n",
    "    who_data[\"InformationType\"].isin([\"Epidemiology\", \"Assessment\"])\n",
    "]"
   ]
  },
  {
   "cell_type": "code",
   "execution_count": 13,
   "metadata": {},
   "outputs": [
    {
     "data": {
      "text/html": [
       "<div>\n",
       "<style scoped>\n",
       "    .dataframe tbody tr th:only-of-type {\n",
       "        vertical-align: middle;\n",
       "    }\n",
       "\n",
       "    .dataframe tbody tr th {\n",
       "        vertical-align: top;\n",
       "    }\n",
       "\n",
       "    .dataframe thead th {\n",
       "        text-align: right;\n",
       "    }\n",
       "</style>\n",
       "<table border=\"1\" class=\"dataframe\">\n",
       "  <thead>\n",
       "    <tr style=\"text-align: right;\">\n",
       "      <th></th>\n",
       "      <th>DonID_standardized</th>\n",
       "      <th>UrlName</th>\n",
       "      <th>DonId</th>\n",
       "      <th>InformationType</th>\n",
       "      <th>Text</th>\n",
       "    </tr>\n",
       "  </thead>\n",
       "  <tbody>\n",
       "    <tr>\n",
       "      <th>3</th>\n",
       "      <td>2024-DON540</td>\n",
       "      <td>2024-DON540</td>\n",
       "      <td>2024-DON540</td>\n",
       "      <td>Assessment</td>\n",
       "      <td>Marburg virus disease (MVD) is caused by the s...</td>\n",
       "    </tr>\n",
       "    <tr>\n",
       "      <th>9</th>\n",
       "      <td>2024-DON538</td>\n",
       "      <td>2024-DON538</td>\n",
       "      <td>2024-DON538</td>\n",
       "      <td>Assessment</td>\n",
       "      <td>Although\\nno cases of WNV have been documented...</td>\n",
       "    </tr>\n",
       "    <tr>\n",
       "      <th>15</th>\n",
       "      <td>2024-DON536</td>\n",
       "      <td>2024-DON536</td>\n",
       "      <td>2024-DON536</td>\n",
       "      <td>Assessment</td>\n",
       "      <td>Since the first report of MERS-CoV in the King...</td>\n",
       "    </tr>\n",
       "    <tr>\n",
       "      <th>21</th>\n",
       "      <td>2024-DON537</td>\n",
       "      <td>2024-DON537</td>\n",
       "      <td>2024-DON537</td>\n",
       "      <td>Assessment</td>\n",
       "      <td>Marburg virus disease (MVD) is caused by the s...</td>\n",
       "    </tr>\n",
       "    <tr>\n",
       "      <th>27</th>\n",
       "      <td>2024-DON534</td>\n",
       "      <td>2024-DON534</td>\n",
       "      <td>2024-DON534</td>\n",
       "      <td>Assessment</td>\n",
       "      <td>This is the first human case of infection with...</td>\n",
       "    </tr>\n",
       "  </tbody>\n",
       "</table>\n",
       "</div>"
      ],
      "text/plain": [
       "   DonID_standardized      UrlName        DonId InformationType  \\\n",
       "3         2024-DON540  2024-DON540  2024-DON540      Assessment   \n",
       "9         2024-DON538  2024-DON538  2024-DON538      Assessment   \n",
       "15        2024-DON536  2024-DON536  2024-DON536      Assessment   \n",
       "21        2024-DON537  2024-DON537  2024-DON537      Assessment   \n",
       "27        2024-DON534  2024-DON534  2024-DON534      Assessment   \n",
       "\n",
       "                                                 Text  \n",
       "3   Marburg virus disease (MVD) is caused by the s...  \n",
       "9   Although\\nno cases of WNV have been documented...  \n",
       "15  Since the first report of MERS-CoV in the King...  \n",
       "21  Marburg virus disease (MVD) is caused by the s...  \n",
       "27  This is the first human case of infection with...  "
      ]
     },
     "execution_count": 13,
     "metadata": {},
     "output_type": "execute_result"
    }
   ],
   "source": [
    "who_data_assessment.head()"
   ]
  },
  {
   "cell_type": "code",
   "execution_count": 8,
   "metadata": {},
   "outputs": [],
   "source": [
    "# import 3.Clustering Drivers.xlsx, sheet \"Sheet1\"\n",
    "driver_cat = pd.read_excel(\n",
    "    \"../data/raw/clustering_drivers.xlsx\", sheet_name=\"V2_Peter_PSJ_EP_PSJ_EP\"\n",
    ")"
   ]
  },
  {
   "cell_type": "code",
   "execution_count": null,
   "metadata": {},
   "outputs": [],
   "source": [
    "# Sort column \"Consolidated Name\" and remove duplicates in that column, write in method chaining and save to new object\n",
    "driver_cat_rm_dups = driver_cat.drop_duplicates(subset=[\"Group\", \"Consolidated Name\"])\n",
    "\n",
    "predefined_driver_category = (\n",
    "    driver_cat_rm_dups.groupby(\"Group\")[\"Consolidated Name\"]\n",
    "    .apply(lambda x: x.dropna().unique().tolist())\n",
    "    .to_dict()\n",
    ")\n",
    "\n",
    "# Print the result\n",
    "print(predefined_driver_category)"
   ]
  },
  {
   "cell_type": "code",
   "execution_count": 6,
   "metadata": {
    "id": "QhjTMFPyKGcC"
   },
   "outputs": [],
   "source": [
    "lm = dspy.LM('ollama_chat/llama3.2', api_base='http://localhost:11434')\n",
    "dspy.configure(lm=lm)"
   ]
  },
  {
   "cell_type": "code",
   "execution_count": null,
   "metadata": {
    "id": "Ak8Dm1w9KHUJ"
   },
   "outputs": [
    {
     "name": "stdout",
     "output_type": "stream",
     "text": [
      "Stockholm\n"
     ]
    }
   ],
   "source": [
    "# Define a module (ChainOfThought) and assign it a signature (return an answer, given a question).\n",
    "qa = dspy.ChainOfThought('question -> answer')\n",
    "\n",
    "# Run with the default LM configured with `dspy.configure` above.\n",
    "response = qa(question=\"What is the capital city of Sweden?\")\n",
    "print(response.answer)"
   ]
  },
  {
   "cell_type": "code",
   "execution_count": 13,
   "metadata": {},
   "outputs": [
    {
     "name": "stdout",
     "output_type": "stream",
     "text": [
      "Cause: Human movement and interaction in densely populated cities.\n",
      "Effect: Increased transmission of the virus among a large population.\n"
     ]
    }
   ],
   "source": [
    "# Define a ChainOfThought module with a valid signature\n",
    "extract_causal_parts = dspy.ChainOfThought(\n",
    "    \"text -> cause, effect\"\n",
    ")\n",
    "\n",
    "# Example usage\n",
    "text = \"High mobility in urban areas has facilitated the rapid spread of the virus.\"\n",
    "response = extract_causal_parts(text=text)\n",
    "\n",
    "# Print the extracted cause and effect\n",
    "print(\"Cause:\", response['cause'])\n",
    "print(\"Effect:\", response['effect'])"
   ]
  },
  {
   "cell_type": "code",
   "execution_count": 14,
   "metadata": {},
   "outputs": [
    {
     "name": "stdout",
     "output_type": "stream",
     "text": [
      "Text: High mobility in urban areas has facilitated the rapid spread of the virus.\n",
      "Cause: Human movement and interaction in densely populated cities.\n",
      "Effect: Increased transmission of the virus among a large population.\n",
      "--------------------------------------------------\n",
      "Text: Deforestation leads to increased interaction between humans and wildlife, causing outbreaks.\n",
      "Cause: Human activities such as agriculture, urbanization, and logging.\n",
      "Effect: Outbreaks of zoonotic diseases, conflicts with wildlife, and loss of biodiversity.\n",
      "--------------------------------------------------\n"
     ]
    }
   ],
   "source": [
    "texts = [\n",
    "    \"High mobility in urban areas has facilitated the rapid spread of the virus.\",\n",
    "    \"Deforestation leads to increased interaction between humans and wildlife, causing outbreaks.\"\n",
    "]\n",
    "\n",
    "for text in texts:\n",
    "    response = extract_causal_parts(text=text)\n",
    "    print(f\"Text: {text}\")\n",
    "    print(\"Cause:\", response['cause'])\n",
    "    print(\"Effect:\", response['effect'])\n",
    "    print(\"-\" * 50)\n"
   ]
  },
  {
   "cell_type": "code",
   "execution_count": 15,
   "metadata": {},
   "outputs": [
    {
     "name": "stdout",
     "output_type": "stream",
     "text": [
      "Reasoning: Deforestation is a human activity that leads to habitat loss and fragmentation, resulting in increased interaction between humans and wildlife.\n"
     ]
    }
   ],
   "source": [
    "print(\"Reasoning:\", response.reasoning)"
   ]
  },
  {
   "cell_type": "code",
   "execution_count": 18,
   "metadata": {},
   "outputs": [
    {
     "name": "stdout",
     "output_type": "stream",
     "text": [
      "Cause: Deforestation\n",
      "Effect: Disease outbreaks\n",
      "Causality Type: inter-sentence\n",
      "Confidence Score: 0.8\n"
     ]
    }
   ],
   "source": [
    "class CausalExtraction(dspy.Signature):\n",
    "    \"\"\"Extract cause, effect, and additional metadata from a text.\"\"\"\n",
    "\n",
    "    # Input field\n",
    "    text: str = dspy.InputField()\n",
    "\n",
    "    # Output fields\n",
    "    cause: str = dspy.OutputField()\n",
    "    effect: str = dspy.OutputField()\n",
    "    causality_type: Literal['intra-sentence', 'inter-sentence'] = dspy.OutputField()\n",
    "    confidence: float = dspy.OutputField()  # Confidence score for the extraction\n",
    "\n",
    "# Define a Predict class using the extended signature\n",
    "extract_causal_parts = dspy.Predict(CausalExtraction)\n",
    "\n",
    "# Example usage\n",
    "text = \"Deforestation leads to increased interaction between humans and wildlife, which can cause disease outbreaks.\"\n",
    "response = extract_causal_parts(text=text)\n",
    "\n",
    "# Print the extracted fields\n",
    "print(\"Cause:\", response.cause)\n",
    "print(\"Effect:\", response.effect)\n",
    "print(\"Causality Type:\", response.causality_type)\n",
    "print(\"Confidence Score:\", response.confidence)"
   ]
  },
  {
   "cell_type": "code",
   "execution_count": 19,
   "metadata": {},
   "outputs": [
    {
     "name": "stdout",
     "output_type": "stream",
     "text": [
      "Text: High mobility in urban areas has facilitated the rapid spread of the virus.\n",
      "Cause: High mobility in urban areas\n",
      "Effect: Rapid spread of the virus\n",
      "Causality Type: inter-sentence\n",
      "Confidence Score: 0.8\n",
      "--------------------------------------------------\n",
      "Text: Deforestation leads to increased interaction between humans and wildlife, which can cause disease outbreaks.\n",
      "Cause: Deforestation\n",
      "Effect: Disease outbreaks\n",
      "Causality Type: inter-sentence\n",
      "Confidence Score: 0.8\n",
      "--------------------------------------------------\n",
      "Text: Climate change is exacerbating extreme weather events, leading to widespread flooding.\n",
      "Cause: Climate change\n",
      "Effect: extreme weather events and widespread flooding\n",
      "Causality Type: inter-sentence\n",
      "Confidence Score: 0.9\n",
      "--------------------------------------------------\n"
     ]
    }
   ],
   "source": [
    "texts = [\n",
    "    \"High mobility in urban areas has facilitated the rapid spread of the virus.\",\n",
    "    \"Deforestation leads to increased interaction between humans and wildlife, which can cause disease outbreaks.\",\n",
    "    \"Climate change is exacerbating extreme weather events, leading to widespread flooding.\"\n",
    "]\n",
    "\n",
    "for text in texts:\n",
    "    response = extract_causal_parts(text=text)\n",
    "    print(f\"Text: {text}\")\n",
    "    print(\"Cause:\", response.cause)\n",
    "    print(\"Effect:\", response.effect)\n",
    "    print(\"Causality Type:\", response.causality_type)\n",
    "    print(\"Confidence Score:\", response.confidence)\n",
    "    print(\"-\" * 50)\n"
   ]
  },
  {
   "cell_type": "code",
   "execution_count": 22,
   "metadata": {},
   "outputs": [
    {
     "name": "stdout",
     "output_type": "stream",
     "text": [
      "Cause: Deforestation\n",
      "Effect: Zoonotic diseases\n",
      "Causality Type: inter-sentence\n",
      "Confidence Score: 0.8\n"
     ]
    }
   ],
   "source": [
    "class CausalExtractionPrompt(dspy.Signature):\n",
    "    \"\"\"\n",
    "    Signature for extracting causes and effects with additional metadata.\n",
    "    Dynamically generates prompts based on included components.\n",
    "    \"\"\"\n",
    "    # Input fields\n",
    "    text: str = dspy.InputField()\n",
    "    include_persona: bool = dspy.InputField(default=False)\n",
    "    include_domain: bool = dspy.InputField(default=False)\n",
    "    include_causality: bool = dspy.InputField(default=True)\n",
    "    include_guidance: bool = dspy.InputField(default=True)\n",
    "    include_examples: bool = dspy.InputField(default=False)\n",
    "    include_negative: bool = dspy.InputField(default=False)\n",
    "    include_mechanism: bool = dspy.InputField(default=False)\n",
    "    include_sign: bool = dspy.InputField(default=False)\n",
    "\n",
    "    # Output fields\n",
    "    cause: str = dspy.OutputField()\n",
    "    effect: str = dspy.OutputField()\n",
    "    causality_type: Literal['intra-sentence', 'inter-sentence'] = dspy.OutputField()\n",
    "    confidence: float = dspy.OutputField()\n",
    "\n",
    "    def generate_prompt(self) -> str:\n",
    "        \"\"\"\n",
    "        Generate a dynamic prompt based on the specified input fields.\n",
    "        \"\"\"\n",
    "        prompt = \"\"\n",
    "\n",
    "        # Add selected components to the prompt\n",
    "        if self.include_persona:\n",
    "            prompt += \"\"\"\n",
    "            You are an epidemiologist tasked with identifying sentences or phrases from outbreak reports that describe the drivers or contributors to the emergence or transmission of pests and pathogens.\n",
    "            \"\"\"\n",
    "\n",
    "        if self.include_domain:\n",
    "            prompt += \"\"\"\n",
    "            Here is the definition of the DPSIR (Drivers, Pressure, State, Impacts, and Responses) framework:\n",
    "            - Drivers: Underlying socio-economic, environmental, or ecological forces that create conditions favorable for disease emergence.\n",
    "            - Pressure: Human activities responsible for spillover events and pathogen transmission.\n",
    "            - State: The current circulation status of pests or pathogens.\n",
    "            - Impacts: Effects on individuals, communities, and socio-economic conditions.\n",
    "            - Responses: Actions by governments to manage drivers, pressures, and impacts.\n",
    "            \"\"\"\n",
    "\n",
    "        if self.include_causality:\n",
    "            prompt += \"\"\"\n",
    "            Causality can take two forms:\n",
    "            - Intra-sentence causality: The cause and effect are within a single sentence.\n",
    "            - Inter-sentence causality: The cause and effect span multiple sentences.\n",
    "            \"\"\"\n",
    "\n",
    "        if self.include_guidance:\n",
    "            prompt += \"\"\"\n",
    "            Input text: {text}\n",
    "            Expected output:\n",
    "            1. Raw text with marked causes and effects\n",
    "            2. Extracted causes and effects:\n",
    "               - Cause: [cause] -> Effect: [effect]\n",
    "               - Type: [intra-sentence/inter-sentence]\n",
    "            \"\"\"\n",
    "\n",
    "        if self.include_examples:\n",
    "            prompt += \"\"\"\n",
    "            Examples:\n",
    "            - (C1) High population density (C1) -> (E1) Rapid spread of the virus (E1)\n",
    "            - Multiple causes: (C1) Poverty (C1) and (C2) Poor sanitation (C2) -> (E1) Increased outbreaks (E1)\n",
    "            \"\"\"\n",
    "\n",
    "        if self.include_negative:\n",
    "            prompt += \"\"\"\n",
    "            Avoid irrelevant causality:\n",
    "            - Example: \"MVD is a highly virulent disease\" is not causality related to disease transmission.\n",
    "            \"\"\"\n",
    "\n",
    "        if self.include_mechanism:\n",
    "            prompt += \"\"\"\n",
    "            Mechanisms describe physiological interactions between the host, pathogen, and environment that drive transmission or emergence.\n",
    "            \"\"\"\n",
    "\n",
    "        if self.include_sign:\n",
    "            prompt += \"\"\"\n",
    "            For each cause and effect, indicate whether it is positive or negative. Positive: improve, facilitate, enable. Negative: reduce, hinder, impair.\n",
    "            \"\"\"\n",
    "\n",
    "        # Add the input text dynamically\n",
    "        prompt += f\"\\nText to analyze: {self.text}\\n\"\n",
    "        return prompt\n",
    "\n",
    "# Define a Predict class using the dynamic prompt\n",
    "extract_causal_parts = dspy.Predict(CausalExtractionPrompt)\n",
    "\n",
    "# Example usage\n",
    "text = \"\"\"\n",
    "Deforestation increases human-wildlife interaction, leading to the emergence of zoonotic diseases.\n",
    "In rural areas, limited healthcare access exacerbates the impact of outbreaks. Climate change has amplified\n",
    "the frequency of extreme weather events, which in turn disrupts ecosystems and increases vulnerability\n",
    "to infectious diseases. Urbanization and high population density further accelerate the spread of viruses.\n",
    "\"\"\"\n",
    "response = extract_causal_parts(\n",
    "    text=text,\n",
    "    include_persona=True,\n",
    "    include_domain=False,        # Explicitly pass all fields\n",
    "    include_causality=True,\n",
    "    include_guidance=True,\n",
    "    include_examples=True,\n",
    "    include_negative=False,\n",
    "    include_mechanism=False,\n",
    "    include_sign=False,\n",
    ")\n",
    "\n",
    "\n",
    "# Print the extracted fields\n",
    "print(\"Cause:\", response.cause)\n",
    "print(\"Effect:\", response.effect)\n",
    "print(\"Causality Type:\", response.causality_type)\n",
    "print(\"Confidence Score:\", response.confidence)\n"
   ]
  },
  {
   "cell_type": "code",
   "execution_count": 30,
   "metadata": {},
   "outputs": [
    {
     "name": "stdout",
     "output_type": "stream",
     "text": [
      "Cause: deforestation\n",
      "Effect: human-wildlife interaction\n",
      "Relationship Type: primary\n",
      "Confidence Score: 0.8\n",
      "--------------------------------------------------\n",
      "Cause: climate change\n",
      "Effect: disruption of ecosystems\n",
      "Relationship Type: intermediate\n",
      "Confidence Score: 0.7\n",
      "--------------------------------------------------\n",
      "Cause: urbanization\n",
      "Effect: acceleration of virus spread\n",
      "Relationship Type: primary\n",
      "Confidence Score: 0.9\n",
      "--------------------------------------------------\n"
     ]
    }
   ],
   "source": [
    "from typing import TypedDict, List, Dict\n",
    "\n",
    "\n",
    "class CausalPair(TypedDict):\n",
    "    cause: str\n",
    "    effect: str\n",
    "    relationship_type: Literal['primary', 'intermediate']\n",
    "    confidence: float\n",
    "\n",
    "class MultiCausalExtractionPrompt(dspy.Signature):\n",
    "    \"\"\"\n",
    "    Signature for extracting multiple cause-effect pairs from text, including primary/intermediate relationships\n",
    "    and confidence scores.\n",
    "    \"\"\"\n",
    "\n",
    "    # Input fields\n",
    "    text: str = dspy.InputField()\n",
    "    include_persona: bool = dspy.InputField(default=False)\n",
    "    include_domain: bool = dspy.InputField(default=False)\n",
    "    include_causality: bool = dspy.InputField(default=True)\n",
    "    include_guidance: bool = dspy.InputField(default=True)\n",
    "    include_examples: bool = dspy.InputField(default=False)\n",
    "\n",
    "    # Output field: A list of cause-effect pairs with metadata\n",
    "    causal_pairs: List[CausalPair] = dspy.OutputField()\n",
    "\n",
    "    def generate_prompt(self) -> str:\n",
    "        \"\"\"\n",
    "        Generate a dynamic prompt to extract multiple cause-effect pairs with confidence scores.\n",
    "        \"\"\"\n",
    "        prompt = \"\"\n",
    "\n",
    "        if getattr(self, \"include_persona\", False):\n",
    "            prompt += (\n",
    "                \"You are an epidemiologist tasked with identifying causality in the text.\\n\"\n",
    "            )\n",
    "        if getattr(self, \"include_domain\", False):\n",
    "            prompt += (\n",
    "                \"Here is the DPSIR framework definition: Drivers, Pressures, States, Impacts, and Responses...\\n\"\n",
    "            )\n",
    "        if getattr(self, \"include_causality\", True):\n",
    "            prompt += (\n",
    "                \"Causality can take two forms:\\n\"\n",
    "                \"1. Primary relationships: Direct cause-effect pairs.\\n\"\n",
    "                \"2. Intermediate relationships: Indirect cause-effect pairs that link primary causes and final effects.\\n\"\n",
    "            )\n",
    "        if getattr(self, \"include_guidance\", True):\n",
    "            prompt += (\n",
    "                \"Analyze the following text and extract all cause-effect pairs with confidence scores:\\n\"\n",
    "                f\"{self.text}\\n\\n\"\n",
    "                \"Output format:\\n\"\n",
    "                \"- Cause: [cause]\\n\"\n",
    "                \"- Effect: [effect]\\n\"\n",
    "                \"- Relationship Type: [primary/intermediate]\\n\"\n",
    "                \"- Confidence: [confidence score (0-1)]\\n\"\n",
    "            )\n",
    "        if getattr(self, \"include_examples\", False):\n",
    "            prompt += (\n",
    "                \"Examples:\\n\"\n",
    "                \"- Cause: Deforestation\\n\"\n",
    "                \"  Effect: Increased human-wildlife interaction\\n\"\n",
    "                \"  Relationship Type: Primary\\n\"\n",
    "                \"  Confidence: 0.95\\n\"\n",
    "                \"- Cause: Increased human-wildlife interaction\\n\"\n",
    "                \"  Effect: Emergence of zoonotic diseases\\n\"\n",
    "                \"  Relationship Type: Intermediate\\n\"\n",
    "                \"  Confidence: 0.90\\n\"\n",
    "            )\n",
    "        return prompt\n",
    "\n",
    "# Define the prediction model using the new signature\n",
    "extract_causal_pairs = dspy.ChainOfThought(MultiCausalExtractionPrompt)\n",
    "\n",
    "\n",
    "# Test with a larger text\n",
    "response = extract_causal_pairs(\n",
    "    text=\"\"\"\n",
    "    Deforestation increases human-wildlife interaction, leading to the emergence of zoonotic diseases.\n",
    "    In rural areas, limited healthcare access exacerbates the impact of outbreaks. Climate change has amplified\n",
    "    the frequency of extreme weather events, which in turn disrupts ecosystems and increases vulnerability\n",
    "    to infectious diseases. Urbanization and high population density further accelerate the spread of viruses.\n",
    "    \"\"\",\n",
    "    include_persona=True,       # Explicitly enable persona\n",
    "    include_domain=False,       # Explicitly disable domain (default: False)\n",
    "    include_causality=True,     # Explicitly enable causality (default: True)\n",
    "    include_guidance=True,      # Explicitly enable guidance (default: True)\n",
    "    include_examples=True,      # Explicitly enable examples\n",
    ")\n",
    "\n",
    "\n",
    "# Display the extracted cause-effect pairs\n",
    "for pair in response.causal_pairs:\n",
    "    print(\"Cause:\", pair[\"cause\"])\n",
    "    print(\"Effect:\", pair[\"effect\"])\n",
    "    print(\"Relationship Type:\", pair.get(\"relationship_type\", \"Unknown\"))\n",
    "    print(\"Confidence Score:\", pair.get(\"confidence\", \"N/A\"))  # Fallback to 'N/A'\n",
    "    print(\"-\" * 50)\n"
   ]
  }
 ],
 "metadata": {
  "colab": {
   "provenance": []
  },
  "kernelspec": {
   "display_name": "Python 3 (ipykernel)",
   "language": "python",
   "name": "python3"
  },
  "language_info": {
   "codemirror_mode": {
    "name": "ipython",
    "version": 3
   },
   "file_extension": ".py",
   "mimetype": "text/x-python",
   "name": "python",
   "nbconvert_exporter": "python",
   "pygments_lexer": "ipython3",
   "version": "3.12.6"
  }
 },
 "nbformat": 4,
 "nbformat_minor": 4
}
